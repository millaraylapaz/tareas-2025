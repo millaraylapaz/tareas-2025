{
  "cells": [
    {
      "cell_type": "markdown",
      "metadata": {
        "id": "P7fq2jJAPpWB"
      },
      "source": [
        "**Problema 1**: Hacer un programa que imprima los números del -100 al 200."
      ]
    },
    {
      "cell_type": "code",
      "execution_count": null,
      "metadata": {
        "colab": {
          "base_uri": "https://localhost:8080/"
        },
        "id": "TMO96PHEPotV",
        "outputId": "7001ead0-c732-4147-d5ad-27170e562107"
      },
      "outputs": [
        {
          "name": "stdout",
          "output_type": "stream",
          "text": [
            "100\n",
            "101\n",
            "102\n",
            "103\n",
            "104\n",
            "105\n",
            "106\n",
            "107\n",
            "108\n",
            "109\n",
            "110\n",
            "111\n",
            "112\n",
            "113\n",
            "114\n",
            "115\n",
            "116\n",
            "117\n",
            "118\n",
            "119\n",
            "120\n",
            "121\n",
            "122\n",
            "123\n",
            "124\n",
            "125\n",
            "126\n",
            "127\n",
            "128\n",
            "129\n",
            "130\n",
            "131\n",
            "132\n",
            "133\n",
            "134\n",
            "135\n",
            "136\n",
            "137\n",
            "138\n",
            "139\n",
            "140\n",
            "141\n",
            "142\n",
            "143\n",
            "144\n",
            "145\n",
            "146\n",
            "147\n",
            "148\n",
            "149\n",
            "150\n",
            "151\n",
            "152\n",
            "153\n",
            "154\n",
            "155\n",
            "156\n",
            "157\n",
            "158\n",
            "159\n",
            "160\n",
            "161\n",
            "162\n",
            "163\n",
            "164\n",
            "165\n",
            "166\n",
            "167\n",
            "168\n",
            "169\n",
            "170\n",
            "171\n",
            "172\n",
            "173\n",
            "174\n",
            "175\n",
            "176\n",
            "177\n",
            "178\n",
            "179\n",
            "180\n",
            "181\n",
            "182\n",
            "183\n",
            "184\n",
            "185\n",
            "186\n",
            "187\n",
            "188\n",
            "189\n",
            "190\n",
            "191\n",
            "192\n",
            "193\n",
            "194\n",
            "195\n",
            "196\n",
            "197\n",
            "198\n",
            "199\n",
            "200\n"
          ]
        }
      ],
      "source": [
        "numero_inicial = 100\n",
        "numero_final = 200\n",
        "lista = range(numero_inicial, numero_final + 1)\n",
        "for numero in lista:\n",
        "  print(numero)"
      ]
    },
    {
      "cell_type": "markdown",
      "metadata": {
        "id": "_kj67g5rQPxL"
      },
      "source": [
        "**Problema  2**: Hacer un programa que imprima los números del -100 al 200 que sean divisibles entre 6 (con resto 0)"
      ]
    },
    {
      "cell_type": "code",
      "execution_count": null,
      "metadata": {
        "colab": {
          "base_uri": "https://localhost:8080/"
        },
        "id": "iywnFbEpQkKw",
        "outputId": "a4dfda43-e865-4bee-f4a4-9dbf28eafcfa"
      },
      "outputs": [
        {
          "name": "stdout",
          "output_type": "stream",
          "text": [
            "-96\n",
            "-90\n",
            "-84\n",
            "-78\n",
            "-72\n",
            "-66\n",
            "-60\n",
            "-54\n",
            "-48\n",
            "-42\n",
            "-36\n",
            "-30\n",
            "-24\n",
            "-18\n",
            "-12\n",
            "-6\n",
            "0\n",
            "6\n",
            "12\n",
            "18\n",
            "24\n",
            "30\n",
            "36\n",
            "42\n",
            "48\n",
            "54\n",
            "60\n",
            "66\n",
            "72\n",
            "78\n",
            "84\n",
            "90\n",
            "96\n",
            "102\n",
            "108\n",
            "114\n",
            "120\n",
            "126\n",
            "132\n",
            "138\n",
            "144\n",
            "150\n",
            "156\n",
            "162\n",
            "168\n",
            "174\n",
            "180\n",
            "186\n",
            "192\n",
            "198\n"
          ]
        }
      ],
      "source": [
        "numero_inicial = -100\n",
        "numero_final = 200\n",
        "lista = range(numero_inicial, numero_final +1)\n",
        "for i in lista:\n",
        "  if i % 6 == 0:\n",
        "    print(i)"
      ]
    },
    {
      "cell_type": "markdown",
      "metadata": {
        "id": "eH8J8D_aRul9"
      },
      "source": [
        "**Problema 3**: Pseudocódigo, Sumador y comparador de dos números Realiza el algoritmo para un sumador de dos números. Si el resultado es menor a 200 se mostrará el mensaje \"menor a 200\", si el resultado es mayor a 200, pero menor a 250 mostrará el mensaje \"mayor a 200\", pero si es mayor a 250 mostrará el mensaje \"mayor a 250\"."
      ]
    },
    {
      "cell_type": "code",
      "execution_count": null,
      "metadata": {
        "id": "Q2qm0_zfi4Ln"
      },
      "outputs": [],
      "source": [
        "numero1 = float(input(\"Ingrese el primer número: \"))\n",
        "numero2 = float (input(\"Ingrese el segundo número:\"))\n",
        "suma = numero1 + numero2\n",
        "if suma < 200:\n",
        "  print(\"menor a 200\")\n",
        "elif suma >= 200 and suma < 250:\n",
        "  print(\"mayor a 200\")\n",
        "elif suma >= 250:\n",
        "  print(\"mayor a 250\")"
      ]
    },
    {
      "cell_type": "markdown",
      "metadata": {
        "id": "hIHoaEuVcDea"
      },
      "source": [
        "**Problema 4**: Generar un programa que combine variables, tipos de datos y una condicional en Python (hacer una función que evalúe si el usuario es mayor de edad y si le gusta la música urbana, que envíe diferentes textos según la respuesta del usuario)"
      ]
    },
    {
      "cell_type": "code",
      "execution_count": null,
      "metadata": {
        "id": "PNMBMfQVcX33"
      },
      "outputs": [],
      "source": [
        "edad = int(input(\"ingresa tu edad: \"))\n",
        "musica = input(\"¿Te gusta la música urbana? (si/no)\")\n",
        "if edad >= 18 and musica == \"si\":\n",
        "  print(\"está bien, eres mayor de edad y te gusta la música urbana\")\n",
        "elif edad >= 18 and musica == \"no\":\n",
        "  print(\"es que eres millenial\")\n",
        "if edad <= 18 and musica == \"si\":\n",
        "  print(\"¿tús papás saben que te gusta la música urbana?...\")\n",
        "elif edad <= 18 and musica == \"no\":\n",
        "  print(\"es que eres muy chiquito para que te guste\")"
      ]
    }
  ],
  "metadata": {
    "colab": {
      "provenance": []
    },
    "kernelspec": {
      "display_name": "Python 3",
      "name": "python3"
    },
    "language_info": {
      "name": "python"
    }
  },
  "nbformat": 4,
  "nbformat_minor": 0
}
